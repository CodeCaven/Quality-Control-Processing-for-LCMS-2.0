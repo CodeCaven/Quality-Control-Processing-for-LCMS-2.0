{
 "cells": [
  {
   "cell_type": "markdown",
   "metadata": {},
   "source": [
    "## Set-Up"
   ]
  },
  {
   "cell_type": "markdown",
   "metadata": {},
   "source": [
    "This notebook connects to the MPMF_QC database (a local version), extracts all the tables as well as creating an RDS file of the data. "
   ]
  },
  {
   "cell_type": "code",
   "execution_count": 54,
   "metadata": {},
   "outputs": [
    {
     "name": "stderr",
     "output_type": "stream",
     "text": [
      "Warning message:\n",
      "\"package 'tidyverse' was built under R version 3.6.3\"-- Attaching packages --------------------------------------- tidyverse 1.3.0 --\n",
      "v ggplot2 3.3.2     v purrr   0.3.4\n",
      "v tibble  3.0.3     v dplyr   1.0.1\n",
      "v tidyr   1.1.1     v stringr 1.4.0\n",
      "v readr   1.3.1     v forcats 0.4.0\n",
      "Warning message:\n",
      "\"package 'ggplot2' was built under R version 3.6.3\"Warning message:\n",
      "\"package 'tibble' was built under R version 3.6.3\"Warning message:\n",
      "\"package 'tidyr' was built under R version 3.6.3\"Warning message:\n",
      "\"package 'purrr' was built under R version 3.6.3\"Warning message:\n",
      "\"package 'dplyr' was built under R version 3.6.3\"-- Conflicts ------------------------------------------ tidyverse_conflicts() --\n",
      "x dplyr::filter() masks stats::filter()\n",
      "x dplyr::lag()    masks stats::lag()\n"
     ]
    }
   ],
   "source": [
    "# library for MySQL access\n",
    "#install.packages(\"RMariaDB\")\n",
    "library(RMariaDB)\n",
    "library(tidyverse)"
   ]
  },
  {
   "cell_type": "code",
   "execution_count": 2,
   "metadata": {},
   "outputs": [],
   "source": [
    "# set password for db\n",
    "localPassword <- \"raja2417\""
   ]
  },
  {
   "cell_type": "code",
   "execution_count": 3,
   "metadata": {},
   "outputs": [],
   "source": [
    "# connection\n",
    "MPMF_QC_DB <- dbConnect(RMariaDB::MariaDB(), user='root', password=localPassword, dbname='mpmfdb', host='localhost')\n",
    "\n",
    "# close connection\n",
    "#dbDisconnect(MPMF_QC_DB)"
   ]
  },
  {
   "cell_type": "code",
   "execution_count": 4,
   "metadata": {},
   "outputs": [
    {
     "data": {
      "text/html": [
       "<ol class=list-inline>\n",
       "\t<li>'chromatogram'</li>\n",
       "\t<li>'experiment'</li>\n",
       "\t<li>'machine'</li>\n",
       "\t<li>'measurement'</li>\n",
       "\t<li>'metric'</li>\n",
       "\t<li>'pressure_profile'</li>\n",
       "\t<li>'qc_run'</li>\n",
       "\t<li>'sample_component'</li>\n",
       "\t<li>'stat'</li>\n",
       "</ol>\n"
      ],
      "text/latex": [
       "\\begin{enumerate*}\n",
       "\\item 'chromatogram'\n",
       "\\item 'experiment'\n",
       "\\item 'machine'\n",
       "\\item 'measurement'\n",
       "\\item 'metric'\n",
       "\\item 'pressure\\_profile'\n",
       "\\item 'qc\\_run'\n",
       "\\item 'sample\\_component'\n",
       "\\item 'stat'\n",
       "\\end{enumerate*}\n"
      ],
      "text/markdown": [
       "1. 'chromatogram'\n",
       "2. 'experiment'\n",
       "3. 'machine'\n",
       "4. 'measurement'\n",
       "5. 'metric'\n",
       "6. 'pressure_profile'\n",
       "7. 'qc_run'\n",
       "8. 'sample_component'\n",
       "9. 'stat'\n",
       "\n",
       "\n"
      ],
      "text/plain": [
       "[1] \"chromatogram\"     \"experiment\"       \"machine\"          \"measurement\"     \n",
       "[5] \"metric\"           \"pressure_profile\" \"qc_run\"           \"sample_component\"\n",
       "[9] \"stat\"            "
      ]
     },
     "metadata": {},
     "output_type": "display_data"
    }
   ],
   "source": [
    "# show tables\n",
    "dbListTables(MPMF_QC_DB)"
   ]
  },
  {
   "cell_type": "markdown",
   "metadata": {},
   "source": [
    "## Machines"
   ]
  },
  {
   "cell_type": "code",
   "execution_count": 5,
   "metadata": {},
   "outputs": [],
   "source": [
    "# get all machines query\n",
    "query <- paste(\"SELECT *\n",
    "    FROM machine;\",sep=\"\")"
   ]
  },
  {
   "cell_type": "code",
   "execution_count": 6,
   "metadata": {},
   "outputs": [],
   "source": [
    "# get results of the query\n",
    "rs <- dbSendQuery(MPMF_QC_DB, query)\n",
    "machines <- dbFetch(rs)"
   ]
  },
  {
   "cell_type": "code",
   "execution_count": 7,
   "metadata": {},
   "outputs": [
    {
     "data": {
      "text/html": [
       "<table>\n",
       "<thead><tr><th scope=col>machine_id</th><th scope=col>machine_name</th><th scope=col>machine_serial</th><th scope=col>machine_description</th><th scope=col>machine_venue</th><th scope=col>use_metab</th><th scope=col>use_prot</th><th scope=col>machine_type</th></tr></thead>\n",
       "<tbody>\n",
       "\t<tr><td>1        </td><td>fusion   </td><td>NA       </td><td>NA       </td><td>CLAYTON  </td><td>N        </td><td>Y        </td><td>thermo   </td></tr>\n",
       "\t<tr><td>2        </td><td>qeclassic</td><td>NA       </td><td>NA       </td><td>CLAYTON  </td><td>Y        </td><td>Y        </td><td>thermo   </td></tr>\n",
       "\t<tr><td>3        </td><td>qehf1    </td><td>NA       </td><td>NA       </td><td>CLAYTON  </td><td>N        </td><td>Y        </td><td>thermo   </td></tr>\n",
       "\t<tr><td>4        </td><td>qeplus1  </td><td>NA       </td><td>NA       </td><td>CLAYTON  </td><td>N        </td><td>Y        </td><td>thermo   </td></tr>\n",
       "\t<tr><td>5        </td><td>qeplus2  </td><td>NA       </td><td>NA       </td><td>CLAYTON  </td><td>N        </td><td>Y        </td><td>thermo   </td></tr>\n",
       "\t<tr><td>6        </td><td>qecmips  </td><td>NA       </td><td>NA       </td><td>PARKVILLE</td><td>Y        </td><td>Y        </td><td>thermo   </td></tr>\n",
       "\t<tr><td>7        </td><td>qehfmips </td><td>NA       </td><td>NA       </td><td>PARKVILLE</td><td>N        </td><td>Y        </td><td>thermo   </td></tr>\n",
       "</tbody>\n",
       "</table>\n"
      ],
      "text/latex": [
       "\\begin{tabular}{r|llllllll}\n",
       " machine\\_id & machine\\_name & machine\\_serial & machine\\_description & machine\\_venue & use\\_metab & use\\_prot & machine\\_type\\\\\n",
       "\\hline\n",
       "\t 1         & fusion    & NA        & NA        & CLAYTON   & N         & Y         & thermo   \\\\\n",
       "\t 2         & qeclassic & NA        & NA        & CLAYTON   & Y         & Y         & thermo   \\\\\n",
       "\t 3         & qehf1     & NA        & NA        & CLAYTON   & N         & Y         & thermo   \\\\\n",
       "\t 4         & qeplus1   & NA        & NA        & CLAYTON   & N         & Y         & thermo   \\\\\n",
       "\t 5         & qeplus2   & NA        & NA        & CLAYTON   & N         & Y         & thermo   \\\\\n",
       "\t 6         & qecmips   & NA        & NA        & PARKVILLE & Y         & Y         & thermo   \\\\\n",
       "\t 7         & qehfmips  & NA        & NA        & PARKVILLE & N         & Y         & thermo   \\\\\n",
       "\\end{tabular}\n"
      ],
      "text/markdown": [
       "\n",
       "| machine_id | machine_name | machine_serial | machine_description | machine_venue | use_metab | use_prot | machine_type |\n",
       "|---|---|---|---|---|---|---|---|\n",
       "| 1         | fusion    | NA        | NA        | CLAYTON   | N         | Y         | thermo    |\n",
       "| 2         | qeclassic | NA        | NA        | CLAYTON   | Y         | Y         | thermo    |\n",
       "| 3         | qehf1     | NA        | NA        | CLAYTON   | N         | Y         | thermo    |\n",
       "| 4         | qeplus1   | NA        | NA        | CLAYTON   | N         | Y         | thermo    |\n",
       "| 5         | qeplus2   | NA        | NA        | CLAYTON   | N         | Y         | thermo    |\n",
       "| 6         | qecmips   | NA        | NA        | PARKVILLE | Y         | Y         | thermo    |\n",
       "| 7         | qehfmips  | NA        | NA        | PARKVILLE | N         | Y         | thermo    |\n",
       "\n"
      ],
      "text/plain": [
       "  machine_id machine_name machine_serial machine_description machine_venue\n",
       "1 1          fusion       NA             NA                  CLAYTON      \n",
       "2 2          qeclassic    NA             NA                  CLAYTON      \n",
       "3 3          qehf1        NA             NA                  CLAYTON      \n",
       "4 4          qeplus1      NA             NA                  CLAYTON      \n",
       "5 5          qeplus2      NA             NA                  CLAYTON      \n",
       "6 6          qecmips      NA             NA                  PARKVILLE    \n",
       "7 7          qehfmips     NA             NA                  PARKVILLE    \n",
       "  use_metab use_prot machine_type\n",
       "1 N         Y        thermo      \n",
       "2 Y         Y        thermo      \n",
       "3 N         Y        thermo      \n",
       "4 N         Y        thermo      \n",
       "5 N         Y        thermo      \n",
       "6 Y         Y        thermo      \n",
       "7 N         Y        thermo      "
      ]
     },
     "metadata": {},
     "output_type": "display_data"
    }
   ],
   "source": [
    "machines"
   ]
  },
  {
   "cell_type": "code",
   "execution_count": 8,
   "metadata": {},
   "outputs": [
    {
     "name": "stdout",
     "output_type": "stream",
     "text": [
      "'data.frame':\t7 obs. of  8 variables:\n",
      " $ machine_id         : int  1 2 3 4 5 6 7\n",
      " $ machine_name       : chr  \"fusion\" \"qeclassic\" \"qehf1\" \"qeplus1\" ...\n",
      " $ machine_serial     : chr  NA NA NA NA ...\n",
      " $ machine_description: chr  NA NA NA NA ...\n",
      " $ machine_venue      : chr  \"CLAYTON\" \"CLAYTON\" \"CLAYTON\" \"CLAYTON\" ...\n",
      " $ use_metab          : chr  \"N\" \"Y\" \"N\" \"N\" ...\n",
      " $ use_prot           : chr  \"Y\" \"Y\" \"Y\" \"Y\" ...\n",
      " $ machine_type       : chr  \"thermo\" \"thermo\" \"thermo\" \"thermo\" ...\n"
     ]
    }
   ],
   "source": [
    "str(machines)"
   ]
  },
  {
   "cell_type": "markdown",
   "metadata": {},
   "source": [
    "## Metrics"
   ]
  },
  {
   "cell_type": "code",
   "execution_count": 9,
   "metadata": {},
   "outputs": [],
   "source": [
    "# get all metrics query\n",
    "query <- paste(\"SELECT *\n",
    "    FROM metric;\",sep=\"\")"
   ]
  },
  {
   "cell_type": "code",
   "execution_count": 10,
   "metadata": {},
   "outputs": [
    {
     "name": "stderr",
     "output_type": "stream",
     "text": [
      "Warning message in result_create(conn@ptr, statement, is_statement):\n",
      "\"Cancelling previous query\""
     ]
    }
   ],
   "source": [
    "# get results of the query\n",
    "rs <- dbSendQuery(MPMF_QC_DB, query)\n",
    "metrics <-dbFetch(rs)"
   ]
  },
  {
   "cell_type": "code",
   "execution_count": 11,
   "metadata": {},
   "outputs": [
    {
     "data": {
      "text/html": [
       "<table>\n",
       "<thead><tr><th scope=col>metric_id</th><th scope=col>metric_name</th><th scope=col>metric_description</th><th scope=col>display_order</th><th scope=col>display_name</th><th scope=col>use_metab</th><th scope=col>use_prot</th><th scope=col>metric_type</th></tr></thead>\n",
       "<tbody>\n",
       "\t<tr><td> 1                                  </td><td>mz                                  </td><td>mass to charge ratio                </td><td>-1                                  </td><td>Mass to Charge Ratio (mz)           </td><td>Y                                   </td><td>Y                                   </td><td>mzmine                              </td></tr>\n",
       "\t<tr><td> 2                                  </td><td>rt                                  </td><td>retention time                      </td><td> 3                                  </td><td>Retention Time                      </td><td>Y                                   </td><td>Y                                   </td><td>mzmine                              </td></tr>\n",
       "\t<tr><td> 3                                  </td><td>height                              </td><td>spectra peak height                 </td><td>-1                                  </td><td>Height                              </td><td>Y                                   </td><td>Y                                   </td><td>mzmine                              </td></tr>\n",
       "\t<tr><td> 4                                  </td><td>area                                </td><td>spectra peak area                   </td><td>-1                                  </td><td>Area                                </td><td>Y                                   </td><td>Y                                   </td><td>mzmine                              </td></tr>\n",
       "\t<tr><td> 5                                  </td><td>fwhm                                </td><td>full width half maximum             </td><td> 6                                  </td><td>Full Width Half Maximum             </td><td>Y                                   </td><td>Y                                   </td><td>mzmine                              </td></tr>\n",
       "\t<tr><td> 6                                  </td><td>tf                                  </td><td>tailing factor                      </td><td> 7                                  </td><td>Tailing                             </td><td>Y                                   </td><td>Y                                   </td><td>mzmine                              </td></tr>\n",
       "\t<tr><td> 7                                  </td><td>af                                  </td><td>asymmetry factor                    </td><td> 8                                  </td><td>Asymmetry                           </td><td>Y                                   </td><td>Y                                   </td><td>mzmine                              </td></tr>\n",
       "\t<tr><td> 8                                  </td><td>mz_min                              </td><td>mass to charge minimum              </td><td>-1                                  </td><td>mz Minimum                          </td><td>Y                                   </td><td>Y                                   </td><td>mzmine                              </td></tr>\n",
       "\t<tr><td> 9                                  </td><td>mz_max                              </td><td>mass to charge maximum              </td><td>-1                                  </td><td>mz Maximum                          </td><td>Y                                   </td><td>Y                                   </td><td>mzmine                              </td></tr>\n",
       "\t<tr><td>10                                  </td><td>mass_error_ppm                      </td><td>relative error in parts per million </td><td> 1                                  </td><td>Mass Error (ppm)                    </td><td>Y                                   </td><td>Y                                   </td><td>mzmine                              </td></tr>\n",
       "\t<tr><td>11                                  </td><td>mass_error_dalton                   </td><td>dalton measure of mass error        </td><td> 2                                  </td><td>Mass Error (mDa)                    </td><td>Y                                   </td><td>Y                                   </td><td>mzmine                              </td></tr>\n",
       "\t<tr><td>12                                  </td><td>area_normalised                     </td><td>area normalised by median           </td><td> 4                                  </td><td>Area (normalised)                   </td><td>Y                                   </td><td>Y                                   </td><td>mzmine                              </td></tr>\n",
       "\t<tr><td>13                                  </td><td>height_normalised                   </td><td>height normalised by median         </td><td> 5                                  </td><td>Height (normalised)                 </td><td>Y                                   </td><td>Y                                   </td><td>mzmine                              </td></tr>\n",
       "\t<tr><td>14                                  </td><td>MS/MS Spectra                       </td><td>spectrum from ms2 scans             </td><td> 1                                  </td><td>MS/MS Spectra (Morpheus)            </td><td>N                                   </td><td>Y                                   </td><td>morpheus                            </td></tr>\n",
       "\t<tr><td>15                                  </td><td>Target PSMs                         </td><td>peptide spectrum matches            </td><td> 2                                  </td><td>PSM (Morpheus)                      </td><td>N                                   </td><td>Y                                   </td><td>morpheus                            </td></tr>\n",
       "\t<tr><td>16                                  </td><td>Unique Target Peptides              </td><td>number of unique peptides identified</td><td> 3                                  </td><td>Unique Peptides (Morpheus)          </td><td>N                                   </td><td>Y                                   </td><td>morpheus                            </td></tr>\n",
       "\t<tr><td>17                                  </td><td>Target Protein Groups               </td><td>number of protein groups identified </td><td> 4                                  </td><td>Protein Groups (Morpheus)           </td><td>N                                   </td><td>Y                                   </td><td>morpheus                            </td></tr>\n",
       "\t<tr><td>18                                  </td><td>Precursor Mass Error                </td><td>average precursor mass error in ppm </td><td> 5                                  </td><td>Precursor Mass Error ppm (Morpheus) </td><td>N                                   </td><td>Y                                   </td><td>morpheus                            </td></tr>\n",
       "\t<tr><td>19                                  </td><td>sbp                                 </td><td>loading pump                        </td><td> 1                                  </td><td>Starting Backpressure (Average)     </td><td>N                                   </td><td>Y                                   </td><td>thermo                              </td></tr>\n",
       "\t<tr><td>20                                  </td><td>ep                                  </td><td>loading pump                        </td><td> 2                                  </td><td>End Pressure (Average)              </td><td>N                                   </td><td>Y                                   </td><td>thermo                              </td></tr>\n",
       "\t<tr><td>21                                  </td><td>vss                                 </td><td>loading pump                        </td><td> 4                                  </td><td>Valve Spike Start                   </td><td>N                                   </td><td>Y                                   </td><td>thermo                              </td></tr>\n",
       "\t<tr><td>22                                  </td><td>vse                                 </td><td>loading pump                        </td><td> 5                                  </td><td>Valve Spike End                     </td><td>N                                   </td><td>Y                                   </td><td>thermo                              </td></tr>\n",
       "\t<tr><td>23                                  </td><td>sp                                  </td><td>nano pump                           </td><td> 1                                  </td><td>Starting Pressure (Median)          </td><td>N                                   </td><td>Y                                   </td><td>thermo                              </td></tr>\n",
       "\t<tr><td>24                                  </td><td>vd                                  </td><td>nano pump                           </td><td> 2                                  </td><td>Valve Drop                          </td><td>N                                   </td><td>Y                                   </td><td>thermo                              </td></tr>\n",
       "\t<tr><td>25                                  </td><td>maxp                                </td><td>nano pump                           </td><td> 3                                  </td><td>Maximum Pressure                    </td><td>N                                   </td><td>Y                                   </td><td>thermo                              </td></tr>\n",
       "\t<tr><td>26                                  </td><td>minp                                </td><td>nano pump                           </td><td> 4                                  </td><td>Minimum Pressure                    </td><td>N                                   </td><td>Y                                   </td><td>thermo                              </td></tr>\n",
       "\t<tr><td>27                                  </td><td>pd                                  </td><td>nano pump                           </td><td> 5                                  </td><td>Pressure Differential               </td><td>N                                   </td><td>Y                                   </td><td>thermo                              </td></tr>\n",
       "\t<tr><td>28                                  </td><td>co                                  </td><td>column oven                         </td><td>-1                                  </td><td>Column Oven                         </td><td>N                                   </td><td>Y                                   </td><td>thermo                              </td></tr>\n",
       "\t<tr><td>29                                  </td><td>maxp-metab                          </td><td>main pump                           </td><td> 1                                  </td><td>Maximum Pressure                    </td><td>Y                                   </td><td>N                                   </td><td>thermo                              </td></tr>\n",
       "\t<tr><td>30                                  </td><td>rt-maxp                             </td><td>main pump                           </td><td> 2                                  </td><td>Retention Time at Maximum Pressure  </td><td>Y                                   </td><td>N                                   </td><td>thermo                              </td></tr>\n",
       "\t<tr><td>31                                  </td><td>sp-metab                            </td><td>main pump                           </td><td> 3                                  </td><td>Starting Pressure (Median)          </td><td>Y                                   </td><td>N                                   </td><td>thermo                              </td></tr>\n",
       "\t<tr><td>32                                  </td><td>ep-metab                            </td><td>main pump                           </td><td> 4                                  </td><td>End Pressure (Median)               </td><td>Y                                   </td><td>N                                   </td><td>thermo                              </td></tr>\n",
       "\t<tr><td>33                                  </td><td>ai                                  </td><td>loading pump                        </td><td> 3                                  </td><td>Air Injection                       </td><td>N                                   </td><td>Y                                   </td><td>thermo                              </td></tr>\n",
       "\t<tr><td>34                                  </td><td>pd-lp                               </td><td>loading pump                        </td><td> 6                                  </td><td>Pressure Differential               </td><td>N                                   </td><td>Y                                   </td><td>thermo                              </td></tr>\n",
       "\t<tr><td>35                                  </td><td>il                                  </td><td>nano pump                           </td><td> 6                                  </td><td>Inline Leak                         </td><td>N                                   </td><td>Y                                   </td><td>thermo                              </td></tr>\n",
       "</tbody>\n",
       "</table>\n"
      ],
      "text/latex": [
       "\\begin{tabular}{r|llllllll}\n",
       " metric\\_id & metric\\_name & metric\\_description & display\\_order & display\\_name & use\\_metab & use\\_prot & metric\\_type\\\\\n",
       "\\hline\n",
       "\t  1                                   & mz                                   & mass to charge ratio                 & -1                                   & Mass to Charge Ratio (mz)            & Y                                    & Y                                    & mzmine                              \\\\\n",
       "\t  2                                   & rt                                   & retention time                       &  3                                   & Retention Time                       & Y                                    & Y                                    & mzmine                              \\\\\n",
       "\t  3                                   & height                               & spectra peak height                  & -1                                   & Height                               & Y                                    & Y                                    & mzmine                              \\\\\n",
       "\t  4                                   & area                                 & spectra peak area                    & -1                                   & Area                                 & Y                                    & Y                                    & mzmine                              \\\\\n",
       "\t  5                                   & fwhm                                 & full width half maximum              &  6                                   & Full Width Half Maximum              & Y                                    & Y                                    & mzmine                              \\\\\n",
       "\t  6                                   & tf                                   & tailing factor                       &  7                                   & Tailing                              & Y                                    & Y                                    & mzmine                              \\\\\n",
       "\t  7                                   & af                                   & asymmetry factor                     &  8                                   & Asymmetry                            & Y                                    & Y                                    & mzmine                              \\\\\n",
       "\t  8                                   & mz\\_min                             & mass to charge minimum               & -1                                   & mz Minimum                           & Y                                    & Y                                    & mzmine                              \\\\\n",
       "\t  9                                   & mz\\_max                             & mass to charge maximum               & -1                                   & mz Maximum                           & Y                                    & Y                                    & mzmine                              \\\\\n",
       "\t 10                                   & mass\\_error\\_ppm                   & relative error in parts per million  &  1                                   & Mass Error (ppm)                     & Y                                    & Y                                    & mzmine                              \\\\\n",
       "\t 11                                   & mass\\_error\\_dalton                & dalton measure of mass error         &  2                                   & Mass Error (mDa)                     & Y                                    & Y                                    & mzmine                              \\\\\n",
       "\t 12                                   & area\\_normalised                    & area normalised by median            &  4                                   & Area (normalised)                    & Y                                    & Y                                    & mzmine                              \\\\\n",
       "\t 13                                   & height\\_normalised                  & height normalised by median          &  5                                   & Height (normalised)                  & Y                                    & Y                                    & mzmine                              \\\\\n",
       "\t 14                                   & MS/MS Spectra                        & spectrum from ms2 scans              &  1                                   & MS/MS Spectra (Morpheus)             & N                                    & Y                                    & morpheus                            \\\\\n",
       "\t 15                                   & Target PSMs                          & peptide spectrum matches             &  2                                   & PSM (Morpheus)                       & N                                    & Y                                    & morpheus                            \\\\\n",
       "\t 16                                   & Unique Target Peptides               & number of unique peptides identified &  3                                   & Unique Peptides (Morpheus)           & N                                    & Y                                    & morpheus                            \\\\\n",
       "\t 17                                   & Target Protein Groups                & number of protein groups identified  &  4                                   & Protein Groups (Morpheus)            & N                                    & Y                                    & morpheus                            \\\\\n",
       "\t 18                                   & Precursor Mass Error                 & average precursor mass error in ppm  &  5                                   & Precursor Mass Error ppm (Morpheus)  & N                                    & Y                                    & morpheus                            \\\\\n",
       "\t 19                                   & sbp                                  & loading pump                         &  1                                   & Starting Backpressure (Average)      & N                                    & Y                                    & thermo                              \\\\\n",
       "\t 20                                   & ep                                   & loading pump                         &  2                                   & End Pressure (Average)               & N                                    & Y                                    & thermo                              \\\\\n",
       "\t 21                                   & vss                                  & loading pump                         &  4                                   & Valve Spike Start                    & N                                    & Y                                    & thermo                              \\\\\n",
       "\t 22                                   & vse                                  & loading pump                         &  5                                   & Valve Spike End                      & N                                    & Y                                    & thermo                              \\\\\n",
       "\t 23                                   & sp                                   & nano pump                            &  1                                   & Starting Pressure (Median)           & N                                    & Y                                    & thermo                              \\\\\n",
       "\t 24                                   & vd                                   & nano pump                            &  2                                   & Valve Drop                           & N                                    & Y                                    & thermo                              \\\\\n",
       "\t 25                                   & maxp                                 & nano pump                            &  3                                   & Maximum Pressure                     & N                                    & Y                                    & thermo                              \\\\\n",
       "\t 26                                   & minp                                 & nano pump                            &  4                                   & Minimum Pressure                     & N                                    & Y                                    & thermo                              \\\\\n",
       "\t 27                                   & pd                                   & nano pump                            &  5                                   & Pressure Differential                & N                                    & Y                                    & thermo                              \\\\\n",
       "\t 28                                   & co                                   & column oven                          & -1                                   & Column Oven                          & N                                    & Y                                    & thermo                              \\\\\n",
       "\t 29                                   & maxp-metab                           & main pump                            &  1                                   & Maximum Pressure                     & Y                                    & N                                    & thermo                              \\\\\n",
       "\t 30                                   & rt-maxp                              & main pump                            &  2                                   & Retention Time at Maximum Pressure   & Y                                    & N                                    & thermo                              \\\\\n",
       "\t 31                                   & sp-metab                             & main pump                            &  3                                   & Starting Pressure (Median)           & Y                                    & N                                    & thermo                              \\\\\n",
       "\t 32                                   & ep-metab                             & main pump                            &  4                                   & End Pressure (Median)                & Y                                    & N                                    & thermo                              \\\\\n",
       "\t 33                                   & ai                                   & loading pump                         &  3                                   & Air Injection                        & N                                    & Y                                    & thermo                              \\\\\n",
       "\t 34                                   & pd-lp                                & loading pump                         &  6                                   & Pressure Differential                & N                                    & Y                                    & thermo                              \\\\\n",
       "\t 35                                   & il                                   & nano pump                            &  6                                   & Inline Leak                          & N                                    & Y                                    & thermo                              \\\\\n",
       "\\end{tabular}\n"
      ],
      "text/markdown": [
       "\n",
       "| metric_id | metric_name | metric_description | display_order | display_name | use_metab | use_prot | metric_type |\n",
       "|---|---|---|---|---|---|---|---|\n",
       "|  1                                   | mz                                   | mass to charge ratio                 | -1                                   | Mass to Charge Ratio (mz)            | Y                                    | Y                                    | mzmine                               |\n",
       "|  2                                   | rt                                   | retention time                       |  3                                   | Retention Time                       | Y                                    | Y                                    | mzmine                               |\n",
       "|  3                                   | height                               | spectra peak height                  | -1                                   | Height                               | Y                                    | Y                                    | mzmine                               |\n",
       "|  4                                   | area                                 | spectra peak area                    | -1                                   | Area                                 | Y                                    | Y                                    | mzmine                               |\n",
       "|  5                                   | fwhm                                 | full width half maximum              |  6                                   | Full Width Half Maximum              | Y                                    | Y                                    | mzmine                               |\n",
       "|  6                                   | tf                                   | tailing factor                       |  7                                   | Tailing                              | Y                                    | Y                                    | mzmine                               |\n",
       "|  7                                   | af                                   | asymmetry factor                     |  8                                   | Asymmetry                            | Y                                    | Y                                    | mzmine                               |\n",
       "|  8                                   | mz_min                               | mass to charge minimum               | -1                                   | mz Minimum                           | Y                                    | Y                                    | mzmine                               |\n",
       "|  9                                   | mz_max                               | mass to charge maximum               | -1                                   | mz Maximum                           | Y                                    | Y                                    | mzmine                               |\n",
       "| 10                                   | mass_error_ppm                       | relative error in parts per million  |  1                                   | Mass Error (ppm)                     | Y                                    | Y                                    | mzmine                               |\n",
       "| 11                                   | mass_error_dalton                    | dalton measure of mass error         |  2                                   | Mass Error (mDa)                     | Y                                    | Y                                    | mzmine                               |\n",
       "| 12                                   | area_normalised                      | area normalised by median            |  4                                   | Area (normalised)                    | Y                                    | Y                                    | mzmine                               |\n",
       "| 13                                   | height_normalised                    | height normalised by median          |  5                                   | Height (normalised)                  | Y                                    | Y                                    | mzmine                               |\n",
       "| 14                                   | MS/MS Spectra                        | spectrum from ms2 scans              |  1                                   | MS/MS Spectra (Morpheus)             | N                                    | Y                                    | morpheus                             |\n",
       "| 15                                   | Target PSMs                          | peptide spectrum matches             |  2                                   | PSM (Morpheus)                       | N                                    | Y                                    | morpheus                             |\n",
       "| 16                                   | Unique Target Peptides               | number of unique peptides identified |  3                                   | Unique Peptides (Morpheus)           | N                                    | Y                                    | morpheus                             |\n",
       "| 17                                   | Target Protein Groups                | number of protein groups identified  |  4                                   | Protein Groups (Morpheus)            | N                                    | Y                                    | morpheus                             |\n",
       "| 18                                   | Precursor Mass Error                 | average precursor mass error in ppm  |  5                                   | Precursor Mass Error ppm (Morpheus)  | N                                    | Y                                    | morpheus                             |\n",
       "| 19                                   | sbp                                  | loading pump                         |  1                                   | Starting Backpressure (Average)      | N                                    | Y                                    | thermo                               |\n",
       "| 20                                   | ep                                   | loading pump                         |  2                                   | End Pressure (Average)               | N                                    | Y                                    | thermo                               |\n",
       "| 21                                   | vss                                  | loading pump                         |  4                                   | Valve Spike Start                    | N                                    | Y                                    | thermo                               |\n",
       "| 22                                   | vse                                  | loading pump                         |  5                                   | Valve Spike End                      | N                                    | Y                                    | thermo                               |\n",
       "| 23                                   | sp                                   | nano pump                            |  1                                   | Starting Pressure (Median)           | N                                    | Y                                    | thermo                               |\n",
       "| 24                                   | vd                                   | nano pump                            |  2                                   | Valve Drop                           | N                                    | Y                                    | thermo                               |\n",
       "| 25                                   | maxp                                 | nano pump                            |  3                                   | Maximum Pressure                     | N                                    | Y                                    | thermo                               |\n",
       "| 26                                   | minp                                 | nano pump                            |  4                                   | Minimum Pressure                     | N                                    | Y                                    | thermo                               |\n",
       "| 27                                   | pd                                   | nano pump                            |  5                                   | Pressure Differential                | N                                    | Y                                    | thermo                               |\n",
       "| 28                                   | co                                   | column oven                          | -1                                   | Column Oven                          | N                                    | Y                                    | thermo                               |\n",
       "| 29                                   | maxp-metab                           | main pump                            |  1                                   | Maximum Pressure                     | Y                                    | N                                    | thermo                               |\n",
       "| 30                                   | rt-maxp                              | main pump                            |  2                                   | Retention Time at Maximum Pressure   | Y                                    | N                                    | thermo                               |\n",
       "| 31                                   | sp-metab                             | main pump                            |  3                                   | Starting Pressure (Median)           | Y                                    | N                                    | thermo                               |\n",
       "| 32                                   | ep-metab                             | main pump                            |  4                                   | End Pressure (Median)                | Y                                    | N                                    | thermo                               |\n",
       "| 33                                   | ai                                   | loading pump                         |  3                                   | Air Injection                        | N                                    | Y                                    | thermo                               |\n",
       "| 34                                   | pd-lp                                | loading pump                         |  6                                   | Pressure Differential                | N                                    | Y                                    | thermo                               |\n",
       "| 35                                   | il                                   | nano pump                            |  6                                   | Inline Leak                          | N                                    | Y                                    | thermo                               |\n",
       "\n"
      ],
      "text/plain": [
       "   metric_id metric_name            metric_description                  \n",
       "1   1        mz                     mass to charge ratio                \n",
       "2   2        rt                     retention time                      \n",
       "3   3        height                 spectra peak height                 \n",
       "4   4        area                   spectra peak area                   \n",
       "5   5        fwhm                   full width half maximum             \n",
       "6   6        tf                     tailing factor                      \n",
       "7   7        af                     asymmetry factor                    \n",
       "8   8        mz_min                 mass to charge minimum              \n",
       "9   9        mz_max                 mass to charge maximum              \n",
       "10 10        mass_error_ppm         relative error in parts per million \n",
       "11 11        mass_error_dalton      dalton measure of mass error        \n",
       "12 12        area_normalised        area normalised by median           \n",
       "13 13        height_normalised      height normalised by median         \n",
       "14 14        MS/MS Spectra          spectrum from ms2 scans             \n",
       "15 15        Target PSMs            peptide spectrum matches            \n",
       "16 16        Unique Target Peptides number of unique peptides identified\n",
       "17 17        Target Protein Groups  number of protein groups identified \n",
       "18 18        Precursor Mass Error   average precursor mass error in ppm \n",
       "19 19        sbp                    loading pump                        \n",
       "20 20        ep                     loading pump                        \n",
       "21 21        vss                    loading pump                        \n",
       "22 22        vse                    loading pump                        \n",
       "23 23        sp                     nano pump                           \n",
       "24 24        vd                     nano pump                           \n",
       "25 25        maxp                   nano pump                           \n",
       "26 26        minp                   nano pump                           \n",
       "27 27        pd                     nano pump                           \n",
       "28 28        co                     column oven                         \n",
       "29 29        maxp-metab             main pump                           \n",
       "30 30        rt-maxp                main pump                           \n",
       "31 31        sp-metab               main pump                           \n",
       "32 32        ep-metab               main pump                           \n",
       "33 33        ai                     loading pump                        \n",
       "34 34        pd-lp                  loading pump                        \n",
       "35 35        il                     nano pump                           \n",
       "   display_order display_name                        use_metab use_prot\n",
       "1  -1            Mass to Charge Ratio (mz)           Y         Y       \n",
       "2   3            Retention Time                      Y         Y       \n",
       "3  -1            Height                              Y         Y       \n",
       "4  -1            Area                                Y         Y       \n",
       "5   6            Full Width Half Maximum             Y         Y       \n",
       "6   7            Tailing                             Y         Y       \n",
       "7   8            Asymmetry                           Y         Y       \n",
       "8  -1            mz Minimum                          Y         Y       \n",
       "9  -1            mz Maximum                          Y         Y       \n",
       "10  1            Mass Error (ppm)                    Y         Y       \n",
       "11  2            Mass Error (mDa)                    Y         Y       \n",
       "12  4            Area (normalised)                   Y         Y       \n",
       "13  5            Height (normalised)                 Y         Y       \n",
       "14  1            MS/MS Spectra (Morpheus)            N         Y       \n",
       "15  2            PSM (Morpheus)                      N         Y       \n",
       "16  3            Unique Peptides (Morpheus)          N         Y       \n",
       "17  4            Protein Groups (Morpheus)           N         Y       \n",
       "18  5            Precursor Mass Error ppm (Morpheus) N         Y       \n",
       "19  1            Starting Backpressure (Average)     N         Y       \n",
       "20  2            End Pressure (Average)              N         Y       \n",
       "21  4            Valve Spike Start                   N         Y       \n",
       "22  5            Valve Spike End                     N         Y       \n",
       "23  1            Starting Pressure (Median)          N         Y       \n",
       "24  2            Valve Drop                          N         Y       \n",
       "25  3            Maximum Pressure                    N         Y       \n",
       "26  4            Minimum Pressure                    N         Y       \n",
       "27  5            Pressure Differential               N         Y       \n",
       "28 -1            Column Oven                         N         Y       \n",
       "29  1            Maximum Pressure                    Y         N       \n",
       "30  2            Retention Time at Maximum Pressure  Y         N       \n",
       "31  3            Starting Pressure (Median)          Y         N       \n",
       "32  4            End Pressure (Median)               Y         N       \n",
       "33  3            Air Injection                       N         Y       \n",
       "34  6            Pressure Differential               N         Y       \n",
       "35  6            Inline Leak                         N         Y       \n",
       "   metric_type\n",
       "1  mzmine     \n",
       "2  mzmine     \n",
       "3  mzmine     \n",
       "4  mzmine     \n",
       "5  mzmine     \n",
       "6  mzmine     \n",
       "7  mzmine     \n",
       "8  mzmine     \n",
       "9  mzmine     \n",
       "10 mzmine     \n",
       "11 mzmine     \n",
       "12 mzmine     \n",
       "13 mzmine     \n",
       "14 morpheus   \n",
       "15 morpheus   \n",
       "16 morpheus   \n",
       "17 morpheus   \n",
       "18 morpheus   \n",
       "19 thermo     \n",
       "20 thermo     \n",
       "21 thermo     \n",
       "22 thermo     \n",
       "23 thermo     \n",
       "24 thermo     \n",
       "25 thermo     \n",
       "26 thermo     \n",
       "27 thermo     \n",
       "28 thermo     \n",
       "29 thermo     \n",
       "30 thermo     \n",
       "31 thermo     \n",
       "32 thermo     \n",
       "33 thermo     \n",
       "34 thermo     \n",
       "35 thermo     "
      ]
     },
     "metadata": {},
     "output_type": "display_data"
    }
   ],
   "source": [
    "metrics"
   ]
  },
  {
   "cell_type": "code",
   "execution_count": 12,
   "metadata": {},
   "outputs": [
    {
     "name": "stdout",
     "output_type": "stream",
     "text": [
      "'data.frame':\t35 obs. of  8 variables:\n",
      " $ metric_id         : int  1 2 3 4 5 6 7 8 9 10 ...\n",
      " $ metric_name       : chr  \"mz\" \"rt\" \"height\" \"area\" ...\n",
      " $ metric_description: chr  \"mass to charge ratio\" \"retention time\" \"spectra peak height\" \"spectra peak area\" ...\n",
      " $ display_order     : int  -1 3 -1 -1 6 7 8 -1 -1 1 ...\n",
      " $ display_name      : chr  \"Mass to Charge Ratio (mz)\" \"Retention Time\" \"Height\" \"Area\" ...\n",
      " $ use_metab         : chr  \"Y\" \"Y\" \"Y\" \"Y\" ...\n",
      " $ use_prot          : chr  \"Y\" \"Y\" \"Y\" \"Y\" ...\n",
      " $ metric_type       : chr  \"mzmine\" \"mzmine\" \"mzmine\" \"mzmine\" ...\n"
     ]
    }
   ],
   "source": [
    "str(metrics)"
   ]
  },
  {
   "cell_type": "markdown",
   "metadata": {},
   "source": [
    "## Components"
   ]
  },
  {
   "cell_type": "code",
   "execution_count": 13,
   "metadata": {},
   "outputs": [],
   "source": [
    "# get all components query\n",
    "query <- paste(\"SELECT *\n",
    "    FROM sample_component;\",sep=\"\")"
   ]
  },
  {
   "cell_type": "code",
   "execution_count": 14,
   "metadata": {},
   "outputs": [
    {
     "name": "stderr",
     "output_type": "stream",
     "text": [
      "Warning message in result_create(conn@ptr, statement, is_statement):\n",
      "\"Cancelling previous query\""
     ]
    }
   ],
   "source": [
    "# get results of the query\n",
    "rs <- dbSendQuery(MPMF_QC_DB, query)\n",
    "components <-dbFetch(rs)"
   ]
  },
  {
   "cell_type": "code",
   "execution_count": 15,
   "metadata": {},
   "outputs": [
    {
     "data": {
      "text/html": [
       "<table>\n",
       "<thead><tr><th scope=col>component_id</th><th scope=col>component_name</th><th scope=col>component_description</th><th scope=col>component_mode</th><th scope=col>exp_mass_charge</th><th scope=col>exp_rt</th><th scope=col>experiment_id</th></tr></thead>\n",
       "<tbody>\n",
       "\t<tr><td> 1              </td><td>Lactic_acid     </td><td>NA              </td><td>N               </td><td> 89.02442       </td><td> 9.96           </td><td>2               </td></tr>\n",
       "\t<tr><td> 2              </td><td>Succinic_acid   </td><td>NA              </td><td>N               </td><td>117.01933       </td><td>15.50           </td><td>2               </td></tr>\n",
       "\t<tr><td> 3              </td><td>Leucine         </td><td>NA              </td><td>N               </td><td>130.08735       </td><td>10.20           </td><td>2               </td></tr>\n",
       "\t<tr><td> 4              </td><td>Isoleucine      </td><td>NA              </td><td>N               </td><td>130.08735       </td><td>11.00           </td><td>2               </td></tr>\n",
       "\t<tr><td> 5              </td><td>Orotic_acid     </td><td>NA              </td><td>N               </td><td>155.00983       </td><td>10.80           </td><td>2               </td></tr>\n",
       "\t<tr><td> 6              </td><td>HEPES           </td><td>NA              </td><td>N               </td><td>237.09145       </td><td>10.69           </td><td>2               </td></tr>\n",
       "\t<tr><td> 7              </td><td>G6P             </td><td>NA              </td><td>N               </td><td>259.02244       </td><td>16.79           </td><td>2               </td></tr>\n",
       "\t<tr><td> 8              </td><td>Taurocholic_acid</td><td>NA              </td><td>N               </td><td>514.28440       </td><td> 4.46           </td><td>2               </td></tr>\n",
       "\t<tr><td> 9              </td><td>CHAPS           </td><td>NA              </td><td>N               </td><td>613.38920       </td><td> 7.88           </td><td>2               </td></tr>\n",
       "\t<tr><td>10              </td><td>EPPS            </td><td>NA              </td><td>N               </td><td>251.10710       </td><td>10.72           </td><td>2               </td></tr>\n",
       "\t<tr><td>11              </td><td>Alanine         </td><td>NA              </td><td>P               </td><td> 90.05495       </td><td>15.00           </td><td>2               </td></tr>\n",
       "\t<tr><td>12              </td><td>Benzimidazole   </td><td>NA              </td><td>P               </td><td>119.06037       </td><td> 5.94           </td><td>2               </td></tr>\n",
       "\t<tr><td>13              </td><td>Trizma          </td><td>NA              </td><td>P               </td><td>122.08117       </td><td>14.98           </td><td>2               </td></tr>\n",
       "\t<tr><td>14              </td><td>Phenylalanine   </td><td>NA              </td><td>P               </td><td>166.08626       </td><td> 9.60           </td><td>2               </td></tr>\n",
       "\t<tr><td>15              </td><td>Glucose         </td><td>NA              </td><td>P               </td><td>181.07066       </td><td>15.00           </td><td>2               </td></tr>\n",
       "\t<tr><td>16              </td><td>Leu_enkephalin  </td><td>NA              </td><td>P               </td><td>556.27658       </td><td> 4.52           </td><td>2               </td></tr>\n",
       "\t<tr><td>17              </td><td>Reserpine       </td><td>NA              </td><td>P               </td><td>609.28066       </td><td> 3.46           </td><td>2               </td></tr>\n",
       "\t<tr><td>18              </td><td>Bradykinin      </td><td>NA              </td><td>P               </td><td>530.78798       </td><td>14.16           </td><td>2               </td></tr>\n",
       "\t<tr><td>19              </td><td>iRT-pep_a       </td><td>NA              </td><td>NA              </td><td>487.25670       </td><td>21.00           </td><td>1               </td></tr>\n",
       "\t<tr><td>20              </td><td>iRT-pep_b       </td><td>NA              </td><td>NA              </td><td>644.82260       </td><td>24.80           </td><td>1               </td></tr>\n",
       "\t<tr><td>21              </td><td>iRT-pep_c       </td><td>NA              </td><td>NA              </td><td>683.82790       </td><td>27.50           </td><td>1               </td></tr>\n",
       "\t<tr><td>22              </td><td>iRT-pep_d       </td><td>NA              </td><td>NA              </td><td>547.29800       </td><td>29.00           </td><td>1               </td></tr>\n",
       "\t<tr><td>23              </td><td>iRT-pep_e       </td><td>NA              </td><td>NA              </td><td>669.83810       </td><td>30.00           </td><td>1               </td></tr>\n",
       "\t<tr><td>24              </td><td>iRT-pep_f       </td><td>NA              </td><td>NA              </td><td>683.85370       </td><td>31.30           </td><td>1               </td></tr>\n",
       "\t<tr><td>25              </td><td>iRT-pep_g       </td><td>NA              </td><td>NA              </td><td>699.33840       </td><td>35.30           </td><td>1               </td></tr>\n",
       "\t<tr><td>26              </td><td>iRT-pep_h       </td><td>NA              </td><td>NA              </td><td>726.83570       </td><td>36.60           </td><td>1               </td></tr>\n",
       "\t<tr><td>27              </td><td>iRT-pep_i       </td><td>NA              </td><td>NA              </td><td>622.85350       </td><td>39.80           </td><td>1               </td></tr>\n",
       "\t<tr><td>28              </td><td>iRT-pep_j       </td><td>NA              </td><td>NA              </td><td>636.86920       </td><td>42.80           </td><td>1               </td></tr>\n",
       "\t<tr><td>29              </td><td>iRT-pep_k       </td><td>NA              </td><td>NA              </td><td>776.92980       </td><td>43.20           </td><td>1               </td></tr>\n",
       "\t<tr><td>30              </td><td>Hela Digest     </td><td>NA              </td><td>NA              </td><td> -1.00000       </td><td>-1.00           </td><td>1               </td></tr>\n",
       "\t<tr><td>31              </td><td>Metab Digest    </td><td>NA              </td><td>NA              </td><td> -1.00000       </td><td>-1.00           </td><td>2               </td></tr>\n",
       "</tbody>\n",
       "</table>\n"
      ],
      "text/latex": [
       "\\begin{tabular}{r|lllllll}\n",
       " component\\_id & component\\_name & component\\_description & component\\_mode & exp\\_mass\\_charge & exp\\_rt & experiment\\_id\\\\\n",
       "\\hline\n",
       "\t  1                 & Lactic\\_acid      & NA                 & N                  &  89.02442          &  9.96              & 2                 \\\\\n",
       "\t  2                 & Succinic\\_acid    & NA                 & N                  & 117.01933          & 15.50              & 2                 \\\\\n",
       "\t  3               & Leucine          & NA               & N                & 130.08735        & 10.20            & 2               \\\\\n",
       "\t  4               & Isoleucine       & NA               & N                & 130.08735        & 11.00            & 2               \\\\\n",
       "\t  5                 & Orotic\\_acid      & NA                 & N                  & 155.00983          & 10.80              & 2                 \\\\\n",
       "\t  6               & HEPES            & NA               & N                & 237.09145        & 10.69            & 2               \\\\\n",
       "\t  7               & G6P              & NA               & N                & 259.02244        & 16.79            & 2               \\\\\n",
       "\t  8                 & Taurocholic\\_acid & NA                 & N                  & 514.28440          &  4.46              & 2                 \\\\\n",
       "\t  9               & CHAPS            & NA               & N                & 613.38920        &  7.88            & 2               \\\\\n",
       "\t 10               & EPPS             & NA               & N                & 251.10710        & 10.72            & 2               \\\\\n",
       "\t 11               & Alanine          & NA               & P                &  90.05495        & 15.00            & 2               \\\\\n",
       "\t 12               & Benzimidazole    & NA               & P                & 119.06037        &  5.94            & 2               \\\\\n",
       "\t 13               & Trizma           & NA               & P                & 122.08117        & 14.98            & 2               \\\\\n",
       "\t 14               & Phenylalanine    & NA               & P                & 166.08626        &  9.60            & 2               \\\\\n",
       "\t 15               & Glucose          & NA               & P                & 181.07066        & 15.00            & 2               \\\\\n",
       "\t 16                 & Leu\\_enkephalin   & NA                 & P                  & 556.27658          &  4.52              & 2                 \\\\\n",
       "\t 17               & Reserpine        & NA               & P                & 609.28066        &  3.46            & 2               \\\\\n",
       "\t 18               & Bradykinin       & NA               & P                & 530.78798        & 14.16            & 2               \\\\\n",
       "\t 19                 & iRT-pep\\_a        & NA                 & NA                 & 487.25670          & 21.00              & 1                 \\\\\n",
       "\t 20                 & iRT-pep\\_b        & NA                 & NA                 & 644.82260          & 24.80              & 1                 \\\\\n",
       "\t 21                 & iRT-pep\\_c        & NA                 & NA                 & 683.82790          & 27.50              & 1                 \\\\\n",
       "\t 22                 & iRT-pep\\_d        & NA                 & NA                 & 547.29800          & 29.00              & 1                 \\\\\n",
       "\t 23                 & iRT-pep\\_e        & NA                 & NA                 & 669.83810          & 30.00              & 1                 \\\\\n",
       "\t 24                 & iRT-pep\\_f        & NA                 & NA                 & 683.85370          & 31.30              & 1                 \\\\\n",
       "\t 25                 & iRT-pep\\_g        & NA                 & NA                 & 699.33840          & 35.30              & 1                 \\\\\n",
       "\t 26                 & iRT-pep\\_h        & NA                 & NA                 & 726.83570          & 36.60              & 1                 \\\\\n",
       "\t 27                 & iRT-pep\\_i        & NA                 & NA                 & 622.85350          & 39.80              & 1                 \\\\\n",
       "\t 28                 & iRT-pep\\_j        & NA                 & NA                 & 636.86920          & 42.80              & 1                 \\\\\n",
       "\t 29                 & iRT-pep\\_k        & NA                 & NA                 & 776.92980          & 43.20              & 1                 \\\\\n",
       "\t 30               & Hela Digest      & NA               & NA               &  -1.00000        & -1.00            & 1               \\\\\n",
       "\t 31               & Metab Digest     & NA               & NA               &  -1.00000        & -1.00            & 2               \\\\\n",
       "\\end{tabular}\n"
      ],
      "text/markdown": [
       "\n",
       "| component_id | component_name | component_description | component_mode | exp_mass_charge | exp_rt | experiment_id |\n",
       "|---|---|---|---|---|---|---|\n",
       "|  1               | Lactic_acid      | NA               | N                |  89.02442        |  9.96            | 2                |\n",
       "|  2               | Succinic_acid    | NA               | N                | 117.01933        | 15.50            | 2                |\n",
       "|  3               | Leucine          | NA               | N                | 130.08735        | 10.20            | 2                |\n",
       "|  4               | Isoleucine       | NA               | N                | 130.08735        | 11.00            | 2                |\n",
       "|  5               | Orotic_acid      | NA               | N                | 155.00983        | 10.80            | 2                |\n",
       "|  6               | HEPES            | NA               | N                | 237.09145        | 10.69            | 2                |\n",
       "|  7               | G6P              | NA               | N                | 259.02244        | 16.79            | 2                |\n",
       "|  8               | Taurocholic_acid | NA               | N                | 514.28440        |  4.46            | 2                |\n",
       "|  9               | CHAPS            | NA               | N                | 613.38920        |  7.88            | 2                |\n",
       "| 10               | EPPS             | NA               | N                | 251.10710        | 10.72            | 2                |\n",
       "| 11               | Alanine          | NA               | P                |  90.05495        | 15.00            | 2                |\n",
       "| 12               | Benzimidazole    | NA               | P                | 119.06037        |  5.94            | 2                |\n",
       "| 13               | Trizma           | NA               | P                | 122.08117        | 14.98            | 2                |\n",
       "| 14               | Phenylalanine    | NA               | P                | 166.08626        |  9.60            | 2                |\n",
       "| 15               | Glucose          | NA               | P                | 181.07066        | 15.00            | 2                |\n",
       "| 16               | Leu_enkephalin   | NA               | P                | 556.27658        |  4.52            | 2                |\n",
       "| 17               | Reserpine        | NA               | P                | 609.28066        |  3.46            | 2                |\n",
       "| 18               | Bradykinin       | NA               | P                | 530.78798        | 14.16            | 2                |\n",
       "| 19               | iRT-pep_a        | NA               | NA               | 487.25670        | 21.00            | 1                |\n",
       "| 20               | iRT-pep_b        | NA               | NA               | 644.82260        | 24.80            | 1                |\n",
       "| 21               | iRT-pep_c        | NA               | NA               | 683.82790        | 27.50            | 1                |\n",
       "| 22               | iRT-pep_d        | NA               | NA               | 547.29800        | 29.00            | 1                |\n",
       "| 23               | iRT-pep_e        | NA               | NA               | 669.83810        | 30.00            | 1                |\n",
       "| 24               | iRT-pep_f        | NA               | NA               | 683.85370        | 31.30            | 1                |\n",
       "| 25               | iRT-pep_g        | NA               | NA               | 699.33840        | 35.30            | 1                |\n",
       "| 26               | iRT-pep_h        | NA               | NA               | 726.83570        | 36.60            | 1                |\n",
       "| 27               | iRT-pep_i        | NA               | NA               | 622.85350        | 39.80            | 1                |\n",
       "| 28               | iRT-pep_j        | NA               | NA               | 636.86920        | 42.80            | 1                |\n",
       "| 29               | iRT-pep_k        | NA               | NA               | 776.92980        | 43.20            | 1                |\n",
       "| 30               | Hela Digest      | NA               | NA               |  -1.00000        | -1.00            | 1                |\n",
       "| 31               | Metab Digest     | NA               | NA               |  -1.00000        | -1.00            | 2                |\n",
       "\n"
      ],
      "text/plain": [
       "   component_id component_name   component_description component_mode\n",
       "1   1           Lactic_acid      NA                    N             \n",
       "2   2           Succinic_acid    NA                    N             \n",
       "3   3           Leucine          NA                    N             \n",
       "4   4           Isoleucine       NA                    N             \n",
       "5   5           Orotic_acid      NA                    N             \n",
       "6   6           HEPES            NA                    N             \n",
       "7   7           G6P              NA                    N             \n",
       "8   8           Taurocholic_acid NA                    N             \n",
       "9   9           CHAPS            NA                    N             \n",
       "10 10           EPPS             NA                    N             \n",
       "11 11           Alanine          NA                    P             \n",
       "12 12           Benzimidazole    NA                    P             \n",
       "13 13           Trizma           NA                    P             \n",
       "14 14           Phenylalanine    NA                    P             \n",
       "15 15           Glucose          NA                    P             \n",
       "16 16           Leu_enkephalin   NA                    P             \n",
       "17 17           Reserpine        NA                    P             \n",
       "18 18           Bradykinin       NA                    P             \n",
       "19 19           iRT-pep_a        NA                    NA            \n",
       "20 20           iRT-pep_b        NA                    NA            \n",
       "21 21           iRT-pep_c        NA                    NA            \n",
       "22 22           iRT-pep_d        NA                    NA            \n",
       "23 23           iRT-pep_e        NA                    NA            \n",
       "24 24           iRT-pep_f        NA                    NA            \n",
       "25 25           iRT-pep_g        NA                    NA            \n",
       "26 26           iRT-pep_h        NA                    NA            \n",
       "27 27           iRT-pep_i        NA                    NA            \n",
       "28 28           iRT-pep_j        NA                    NA            \n",
       "29 29           iRT-pep_k        NA                    NA            \n",
       "30 30           Hela Digest      NA                    NA            \n",
       "31 31           Metab Digest     NA                    NA            \n",
       "   exp_mass_charge exp_rt experiment_id\n",
       "1   89.02442        9.96  2            \n",
       "2  117.01933       15.50  2            \n",
       "3  130.08735       10.20  2            \n",
       "4  130.08735       11.00  2            \n",
       "5  155.00983       10.80  2            \n",
       "6  237.09145       10.69  2            \n",
       "7  259.02244       16.79  2            \n",
       "8  514.28440        4.46  2            \n",
       "9  613.38920        7.88  2            \n",
       "10 251.10710       10.72  2            \n",
       "11  90.05495       15.00  2            \n",
       "12 119.06037        5.94  2            \n",
       "13 122.08117       14.98  2            \n",
       "14 166.08626        9.60  2            \n",
       "15 181.07066       15.00  2            \n",
       "16 556.27658        4.52  2            \n",
       "17 609.28066        3.46  2            \n",
       "18 530.78798       14.16  2            \n",
       "19 487.25670       21.00  1            \n",
       "20 644.82260       24.80  1            \n",
       "21 683.82790       27.50  1            \n",
       "22 547.29800       29.00  1            \n",
       "23 669.83810       30.00  1            \n",
       "24 683.85370       31.30  1            \n",
       "25 699.33840       35.30  1            \n",
       "26 726.83570       36.60  1            \n",
       "27 622.85350       39.80  1            \n",
       "28 636.86920       42.80  1            \n",
       "29 776.92980       43.20  1            \n",
       "30  -1.00000       -1.00  1            \n",
       "31  -1.00000       -1.00  2            "
      ]
     },
     "metadata": {},
     "output_type": "display_data"
    }
   ],
   "source": [
    "components"
   ]
  },
  {
   "cell_type": "code",
   "execution_count": 16,
   "metadata": {},
   "outputs": [
    {
     "name": "stdout",
     "output_type": "stream",
     "text": [
      "'data.frame':\t31 obs. of  7 variables:\n",
      " $ component_id         : int  1 2 3 4 5 6 7 8 9 10 ...\n",
      " $ component_name       : chr  \"Lactic_acid\" \"Succinic_acid\" \"Leucine\" \"Isoleucine\" ...\n",
      " $ component_description: chr  NA NA NA NA ...\n",
      " $ component_mode       : chr  \"N\" \"N\" \"N\" \"N\" ...\n",
      " $ exp_mass_charge      : num  89 117 130 130 155 ...\n",
      " $ exp_rt               : num  9.96 15.5 10.2 11 10.8 ...\n",
      " $ experiment_id        : int  2 2 2 2 2 2 2 2 2 2 ...\n"
     ]
    }
   ],
   "source": [
    "str(components)"
   ]
  },
  {
   "cell_type": "markdown",
   "metadata": {},
   "source": [
    "## Experiments"
   ]
  },
  {
   "cell_type": "code",
   "execution_count": 17,
   "metadata": {},
   "outputs": [],
   "source": [
    "# get all experiments query\n",
    "query <- paste(\"SELECT *\n",
    "    FROM experiment;\",sep=\"\")"
   ]
  },
  {
   "cell_type": "code",
   "execution_count": 18,
   "metadata": {},
   "outputs": [
    {
     "name": "stderr",
     "output_type": "stream",
     "text": [
      "Warning message in result_create(conn@ptr, statement, is_statement):\n",
      "\"Cancelling previous query\""
     ]
    }
   ],
   "source": [
    "# get results of the query\n",
    "rs <- dbSendQuery(MPMF_QC_DB, query)\n",
    "experiments <-dbFetch(rs)"
   ]
  },
  {
   "cell_type": "code",
   "execution_count": 19,
   "metadata": {},
   "outputs": [
    {
     "data": {
      "text/html": [
       "<table>\n",
       "<thead><tr><th scope=col>experiment_id</th><th scope=col>experiment_type</th></tr></thead>\n",
       "<tbody>\n",
       "\t<tr><td>1           </td><td>proteomics  </td></tr>\n",
       "\t<tr><td>2           </td><td>metabolomics</td></tr>\n",
       "</tbody>\n",
       "</table>\n"
      ],
      "text/latex": [
       "\\begin{tabular}{r|ll}\n",
       " experiment\\_id & experiment\\_type\\\\\n",
       "\\hline\n",
       "\t 1            & proteomics  \\\\\n",
       "\t 2            & metabolomics\\\\\n",
       "\\end{tabular}\n"
      ],
      "text/markdown": [
       "\n",
       "| experiment_id | experiment_type |\n",
       "|---|---|\n",
       "| 1            | proteomics   |\n",
       "| 2            | metabolomics |\n",
       "\n"
      ],
      "text/plain": [
       "  experiment_id experiment_type\n",
       "1 1             proteomics     \n",
       "2 2             metabolomics   "
      ]
     },
     "metadata": {},
     "output_type": "display_data"
    }
   ],
   "source": [
    "experiments"
   ]
  },
  {
   "cell_type": "markdown",
   "metadata": {},
   "source": [
    "## Chromatograms"
   ]
  },
  {
   "cell_type": "code",
   "execution_count": 47,
   "metadata": {},
   "outputs": [],
   "source": [
    "# get all chroms query (cast JSON to CHAR)\n",
    "query <- paste(\"SELECT cast(chrom_data as CHAR) as 'Chrom. JSON', run_id, component_id\n",
    "    FROM chromatogram;\",sep=\"\")\n",
    "\n",
    "# code needed to extract and convert back to JSON"
   ]
  },
  {
   "cell_type": "code",
   "execution_count": 48,
   "metadata": {},
   "outputs": [
    {
     "name": "stderr",
     "output_type": "stream",
     "text": [
      "Warning message in result_create(conn@ptr, statement, is_statement):\n",
      "\"Cancelling previous query\""
     ]
    }
   ],
   "source": [
    "# get results of the query\n",
    "rs <- dbSendQuery(MPMF_QC_DB, query)\n",
    "chromatograms <-dbFetch(rs)"
   ]
  },
  {
   "cell_type": "code",
   "execution_count": 49,
   "metadata": {},
   "outputs": [
    {
     "name": "stdout",
     "output_type": "stream",
     "text": [
      "'data.frame':\t1587 obs. of  3 variables:\n",
      " $ Chrom. JSON : chr  \"{\\\"mz\\\": 90.05516578291223, \\\"rts\\\": [1, 3, 2, 1, 1, 2, 2, 1, 2, 2, 1, 2, 1, 11, 1, 2, 1, 7, 2, 1, 2, 2, 1, 1, \"| __truncated__ \"{\\\"mz\\\": 119.06066851161413, \\\"rts\\\": [1, 1, 1, 1, 11, 1, 1, 6, 2, 1, 1, 1, 2, 2, 1, 2, 1, 1, 1, 2, 3, 2, 1, 4,\"| __truncated__ \"{\\\"mz\\\": 122.08145858522016, \\\"rts\\\": [1, 1, 36, 2, 1, 11, 1, 2, 5, 1, 1, 33, 1, 1, 9, 1, 2, 8, 2, 1, 31, 1, 2,\"| __truncated__ \"{\\\"mz\\\": 166.0867021040483, \\\"rts\\\": [1, 1, 1, 1, 2, 1, 1, 2, 1, 1, 1, 2, 1, 1, 1, 2, 1, 1, 1, 2, 1, 1, 1, 2, 1\"| __truncated__ ...\n",
      " $ run_id      : int  7690 7690 7690 7690 7690 7690 7690 7690 7690 7690 ...\n",
      " $ component_id: int  11 12 13 14 16 17 18 1 2 3 ...\n"
     ]
    }
   ],
   "source": [
    "str(chromatograms)"
   ]
  },
  {
   "cell_type": "markdown",
   "metadata": {},
   "source": [
    "## Pressure Profiles"
   ]
  },
  {
   "cell_type": "code",
   "execution_count": 50,
   "metadata": {},
   "outputs": [],
   "source": [
    "# get all pressure profiles query (cast JSON to CHAR)\n",
    "query <- paste(\"SELECT cast(pressure_data as CHAR) as 'Pressure JSON', run_id, pump_type\n",
    "    FROM pressure_profile;\",sep=\"\")\n",
    "\n",
    "# code needed to extract and convert back to JSON"
   ]
  },
  {
   "cell_type": "code",
   "execution_count": 51,
   "metadata": {},
   "outputs": [
    {
     "name": "stderr",
     "output_type": "stream",
     "text": [
      "Warning message in result_create(conn@ptr, statement, is_statement):\n",
      "\"Cancelling previous query\""
     ]
    }
   ],
   "source": [
    "# get results of the query\n",
    "rs <- dbSendQuery(MPMF_QC_DB, query)\n",
    "profiles <-dbFetch(rs)"
   ]
  },
  {
   "cell_type": "code",
   "execution_count": 52,
   "metadata": {},
   "outputs": [
    {
     "name": "stdout",
     "output_type": "stream",
     "text": [
      "'data.frame':\t219 obs. of  3 variables:\n",
      " $ Pressure JSON: chr  \"{\\\"rts\\\": [1, 1, 1, 1, 1, 1, 1, 1, 1, 1, 1, 1, 1, 1, 1, 1, 1, 1, 1, 1, 1, 1, 1, 1, 1, 1, 1, 1, 1, 1, 1, 1, 1, 1\"| __truncated__ \"{\\\"rts\\\": [1, 1, 1, 1, 1, 1, 1, 1, 1, 1, 1, 1, 1, 1, 1, 1, 1, 1, 1, 1, 1, 1, 1, 1, 1, 1, 1, 1, 1, 1, 1, 1, 1, 1\"| __truncated__ \"{\\\"rts\\\": [1, 1, 1, 1, 1, 1, 1, 1, 1, 1, 1, 1, 1, 1, 1, 1, 1, 1, 1, 1, 1, 1, 1, 1, 1, 1, 1, 1, 1, 1, 1, 1, 1, 1\"| __truncated__ \"{\\\"rts\\\": [1, 1, 1, 1, 1, 1, 1, 1, 1, 1, 1, 1, 1, 1, 1, 1, 1, 1, 1, 1, 1, 1, 1, 1, 1, 1, 1, 1, 1, 1, 1, 1, 1, 1\"| __truncated__ ...\n",
      " $ run_id       : int  7690 7691 7692 7693 7694 7695 7696 7735 7736 7737 ...\n",
      " $ pump_type    : chr  \"mp\" \"mp\" \"mp\" \"mp\" ...\n"
     ]
    }
   ],
   "source": [
    "str(profiles)"
   ]
  },
  {
   "cell_type": "markdown",
   "metadata": {},
   "source": [
    "## Metric Measurements"
   ]
  },
  {
   "cell_type": "code",
   "execution_count": 32,
   "metadata": {},
   "outputs": [],
   "source": [
    "# get all metric measurements query (ie the data)\n",
    "query <- paste(\"SELECT m.display_name as 'metric', m.metric_type, s.component_name, e.experiment_type, h.machine_name, q.date_time, v.value\n",
    "    FROM measurement v, sample_component s, qc_run q, metric m, experiment e, machine h \n",
    "    WHERE v.run_id = q.run_id AND \n",
    "            v.component_id = s.component_id AND \n",
    "            v.metric_id = m.metric_id AND \n",
    "            e.experiment_id = q.experiment_id AND \n",
    "            e.experiment_id = s.experiment_id AND \n",
    "            q.machine_id = h.machine_id;\",sep=\"\")"
   ]
  },
  {
   "cell_type": "code",
   "execution_count": 33,
   "metadata": {},
   "outputs": [
    {
     "name": "stderr",
     "output_type": "stream",
     "text": [
      "Warning message in result_create(conn@ptr, statement, is_statement):\n",
      "\"Cancelling previous query\""
     ]
    }
   ],
   "source": [
    "# get results of the query\n",
    "rs = dbSendQuery(MPMF_QC_DB, query)\n",
    "mpmf_data <-dbFetch(rs)"
   ]
  },
  {
   "cell_type": "code",
   "execution_count": 34,
   "metadata": {},
   "outputs": [
    {
     "data": {
      "text/html": [
       "<table>\n",
       "<thead><tr><th scope=col>metric</th><th scope=col>metric_type</th><th scope=col>component_name</th><th scope=col>experiment_type</th><th scope=col>machine_name</th><th scope=col>date_time</th><th scope=col>value</th></tr></thead>\n",
       "<tbody>\n",
       "\t<tr><td>Mass to Charge Ratio (mz)</td><td>mzmine                   </td><td>iRT-pep_a                </td><td>proteomics               </td><td>fusion                   </td><td>2019-08-30 01:14:55      </td><td>487.2569                 </td></tr>\n",
       "\t<tr><td>Mass to Charge Ratio (mz)</td><td>mzmine                   </td><td>iRT-pep_b                </td><td>proteomics               </td><td>fusion                   </td><td>2019-08-30 01:14:55      </td><td>644.8241                 </td></tr>\n",
       "\t<tr><td>Mass to Charge Ratio (mz)</td><td>mzmine                   </td><td>iRT-pep_c                </td><td>proteomics               </td><td>fusion                   </td><td>2019-08-30 01:14:55      </td><td>683.8297                 </td></tr>\n",
       "\t<tr><td>Mass to Charge Ratio (mz)</td><td>mzmine                   </td><td>iRT-pep_d                </td><td>proteomics               </td><td>fusion                   </td><td>2019-08-30 01:14:55      </td><td>547.2996                 </td></tr>\n",
       "\t<tr><td>Mass to Charge Ratio (mz)</td><td>mzmine                   </td><td>iRT-pep_e                </td><td>proteomics               </td><td>fusion                   </td><td>2019-08-30 01:14:55      </td><td>669.8397                 </td></tr>\n",
       "\t<tr><td>Mass to Charge Ratio (mz)</td><td>mzmine                   </td><td>iRT-pep_f                </td><td>proteomics               </td><td>fusion                   </td><td>2019-08-30 01:14:55      </td><td>683.8551                 </td></tr>\n",
       "</tbody>\n",
       "</table>\n"
      ],
      "text/latex": [
       "\\begin{tabular}{r|lllllll}\n",
       " metric & metric\\_type & component\\_name & experiment\\_type & machine\\_name & date\\_time & value\\\\\n",
       "\\hline\n",
       "\t Mass to Charge Ratio (mz) & mzmine                    & iRT-pep\\_a               & proteomics                & fusion                    & 2019-08-30 01:14:55       & 487.2569                 \\\\\n",
       "\t Mass to Charge Ratio (mz) & mzmine                    & iRT-pep\\_b               & proteomics                & fusion                    & 2019-08-30 01:14:55       & 644.8241                 \\\\\n",
       "\t Mass to Charge Ratio (mz) & mzmine                    & iRT-pep\\_c               & proteomics                & fusion                    & 2019-08-30 01:14:55       & 683.8297                 \\\\\n",
       "\t Mass to Charge Ratio (mz) & mzmine                    & iRT-pep\\_d               & proteomics                & fusion                    & 2019-08-30 01:14:55       & 547.2996                 \\\\\n",
       "\t Mass to Charge Ratio (mz) & mzmine                    & iRT-pep\\_e               & proteomics                & fusion                    & 2019-08-30 01:14:55       & 669.8397                 \\\\\n",
       "\t Mass to Charge Ratio (mz) & mzmine                    & iRT-pep\\_f               & proteomics                & fusion                    & 2019-08-30 01:14:55       & 683.8551                 \\\\\n",
       "\\end{tabular}\n"
      ],
      "text/markdown": [
       "\n",
       "| metric | metric_type | component_name | experiment_type | machine_name | date_time | value |\n",
       "|---|---|---|---|---|---|---|\n",
       "| Mass to Charge Ratio (mz) | mzmine                    | iRT-pep_a                 | proteomics                | fusion                    | 2019-08-30 01:14:55       | 487.2569                  |\n",
       "| Mass to Charge Ratio (mz) | mzmine                    | iRT-pep_b                 | proteomics                | fusion                    | 2019-08-30 01:14:55       | 644.8241                  |\n",
       "| Mass to Charge Ratio (mz) | mzmine                    | iRT-pep_c                 | proteomics                | fusion                    | 2019-08-30 01:14:55       | 683.8297                  |\n",
       "| Mass to Charge Ratio (mz) | mzmine                    | iRT-pep_d                 | proteomics                | fusion                    | 2019-08-30 01:14:55       | 547.2996                  |\n",
       "| Mass to Charge Ratio (mz) | mzmine                    | iRT-pep_e                 | proteomics                | fusion                    | 2019-08-30 01:14:55       | 669.8397                  |\n",
       "| Mass to Charge Ratio (mz) | mzmine                    | iRT-pep_f                 | proteomics                | fusion                    | 2019-08-30 01:14:55       | 683.8551                  |\n",
       "\n"
      ],
      "text/plain": [
       "  metric                    metric_type component_name experiment_type\n",
       "1 Mass to Charge Ratio (mz) mzmine      iRT-pep_a      proteomics     \n",
       "2 Mass to Charge Ratio (mz) mzmine      iRT-pep_b      proteomics     \n",
       "3 Mass to Charge Ratio (mz) mzmine      iRT-pep_c      proteomics     \n",
       "4 Mass to Charge Ratio (mz) mzmine      iRT-pep_d      proteomics     \n",
       "5 Mass to Charge Ratio (mz) mzmine      iRT-pep_e      proteomics     \n",
       "6 Mass to Charge Ratio (mz) mzmine      iRT-pep_f      proteomics     \n",
       "  machine_name date_time           value   \n",
       "1 fusion       2019-08-30 01:14:55 487.2569\n",
       "2 fusion       2019-08-30 01:14:55 644.8241\n",
       "3 fusion       2019-08-30 01:14:55 683.8297\n",
       "4 fusion       2019-08-30 01:14:55 547.2996\n",
       "5 fusion       2019-08-30 01:14:55 669.8397\n",
       "6 fusion       2019-08-30 01:14:55 683.8551"
      ]
     },
     "metadata": {},
     "output_type": "display_data"
    }
   ],
   "source": [
    "head(mpmf_data)"
   ]
  },
  {
   "cell_type": "code",
   "execution_count": 53,
   "metadata": {},
   "outputs": [
    {
     "name": "stdout",
     "output_type": "stream",
     "text": [
      "'data.frame':\t1161313 obs. of  7 variables:\n",
      " $ metric         : Factor w/ 32 levels \"Air Injection\",..: 14 14 14 14 14 14 14 14 14 14 ...\n",
      " $ metric_type    : Factor w/ 3 levels \"morpheus\",\"mzmine\",..: 2 2 2 2 2 2 2 2 2 2 ...\n",
      " $ component_name : Factor w/ 31 levels \"Alanine\",\"Benzimidazole\",..: 10 11 12 13 14 15 16 17 18 19 ...\n",
      " $ experiment_type: Factor w/ 2 levels \"metabolomics\",..: 2 2 2 2 2 2 2 2 2 2 ...\n",
      " $ machine_name   : Factor w/ 7 levels \"fusion\",\"qeclassic\",..: 1 1 1 1 1 1 1 1 1 1 ...\n",
      " $ date_time      : POSIXct, format: \"2019-08-30 01:14:55\" \"2019-08-30 01:14:55\" ...\n",
      " $ value          : num  487 645 684 547 670 ...\n"
     ]
    }
   ],
   "source": [
    "str(mpmf_data)"
   ]
  },
  {
   "cell_type": "markdown",
   "metadata": {},
   "source": [
    "### Wrangle and Save"
   ]
  },
  {
   "cell_type": "code",
   "execution_count": 37,
   "metadata": {},
   "outputs": [],
   "source": [
    "# convert to factors\n",
    "mpmf_data$metric <- as.factor(mpmf_data$metric)\n",
    "mpmf_data$component_name <- as.factor(mpmf_data$component_name)\n",
    "mpmf_data$experiment_type <- as.factor(mpmf_data$experiment_type)\n",
    "mpmf_data$machine_name <- as.factor(mpmf_data$machine_name)\n",
    "mpmf_data$metric_type <- as.factor(mpmf_data$metric_type)"
   ]
  },
  {
   "cell_type": "code",
   "execution_count": 57,
   "metadata": {},
   "outputs": [
    {
     "data": {
      "text/html": [
       "<ol class=list-inline>\n",
       "\t<li>'Air Injection'</li>\n",
       "\t<li>'Area'</li>\n",
       "\t<li>'Area (normalised)'</li>\n",
       "\t<li>'Asymmetry'</li>\n",
       "\t<li>'Column Oven'</li>\n",
       "\t<li>'End Pressure (Average)'</li>\n",
       "\t<li>'End Pressure (Median)'</li>\n",
       "\t<li>'Full Width Half Maximum'</li>\n",
       "\t<li>'Height'</li>\n",
       "\t<li>'Height (normalised)'</li>\n",
       "\t<li>'Inline Leak'</li>\n",
       "\t<li>'Mass Error (mDa)'</li>\n",
       "\t<li>'Mass Error (ppm)'</li>\n",
       "\t<li>'Mass to Charge Ratio (mz)'</li>\n",
       "\t<li>'Maximum Pressure'</li>\n",
       "\t<li>'Minimum Pressure'</li>\n",
       "\t<li>'MS/MS Spectra (Morpheus)'</li>\n",
       "\t<li>'mz Maximum'</li>\n",
       "\t<li>'mz Minimum'</li>\n",
       "\t<li>'Precursor Mass Error ppm (Morpheus)'</li>\n",
       "\t<li>'Pressure Differential'</li>\n",
       "\t<li>'Protein Groups (Morpheus)'</li>\n",
       "\t<li>'PSM (Morpheus)'</li>\n",
       "\t<li>'Retention Time'</li>\n",
       "\t<li>'Retention Time at Maximum Pressure'</li>\n",
       "\t<li>'Starting Backpressure (Average)'</li>\n",
       "\t<li>'Starting Pressure (Median)'</li>\n",
       "\t<li>'Tailing'</li>\n",
       "\t<li>'Unique Peptides (Morpheus)'</li>\n",
       "\t<li>'Valve Drop'</li>\n",
       "\t<li>'Valve Spike End'</li>\n",
       "\t<li>'Valve Spike Start'</li>\n",
       "</ol>\n"
      ],
      "text/latex": [
       "\\begin{enumerate*}\n",
       "\\item 'Air Injection'\n",
       "\\item 'Area'\n",
       "\\item 'Area (normalised)'\n",
       "\\item 'Asymmetry'\n",
       "\\item 'Column Oven'\n",
       "\\item 'End Pressure (Average)'\n",
       "\\item 'End Pressure (Median)'\n",
       "\\item 'Full Width Half Maximum'\n",
       "\\item 'Height'\n",
       "\\item 'Height (normalised)'\n",
       "\\item 'Inline Leak'\n",
       "\\item 'Mass Error (mDa)'\n",
       "\\item 'Mass Error (ppm)'\n",
       "\\item 'Mass to Charge Ratio (mz)'\n",
       "\\item 'Maximum Pressure'\n",
       "\\item 'Minimum Pressure'\n",
       "\\item 'MS/MS Spectra (Morpheus)'\n",
       "\\item 'mz Maximum'\n",
       "\\item 'mz Minimum'\n",
       "\\item 'Precursor Mass Error ppm (Morpheus)'\n",
       "\\item 'Pressure Differential'\n",
       "\\item 'Protein Groups (Morpheus)'\n",
       "\\item 'PSM (Morpheus)'\n",
       "\\item 'Retention Time'\n",
       "\\item 'Retention Time at Maximum Pressure'\n",
       "\\item 'Starting Backpressure (Average)'\n",
       "\\item 'Starting Pressure (Median)'\n",
       "\\item 'Tailing'\n",
       "\\item 'Unique Peptides (Morpheus)'\n",
       "\\item 'Valve Drop'\n",
       "\\item 'Valve Spike End'\n",
       "\\item 'Valve Spike Start'\n",
       "\\end{enumerate*}\n"
      ],
      "text/markdown": [
       "1. 'Air Injection'\n",
       "2. 'Area'\n",
       "3. 'Area (normalised)'\n",
       "4. 'Asymmetry'\n",
       "5. 'Column Oven'\n",
       "6. 'End Pressure (Average)'\n",
       "7. 'End Pressure (Median)'\n",
       "8. 'Full Width Half Maximum'\n",
       "9. 'Height'\n",
       "10. 'Height (normalised)'\n",
       "11. 'Inline Leak'\n",
       "12. 'Mass Error (mDa)'\n",
       "13. 'Mass Error (ppm)'\n",
       "14. 'Mass to Charge Ratio (mz)'\n",
       "15. 'Maximum Pressure'\n",
       "16. 'Minimum Pressure'\n",
       "17. 'MS/MS Spectra (Morpheus)'\n",
       "18. 'mz Maximum'\n",
       "19. 'mz Minimum'\n",
       "20. 'Precursor Mass Error ppm (Morpheus)'\n",
       "21. 'Pressure Differential'\n",
       "22. 'Protein Groups (Morpheus)'\n",
       "23. 'PSM (Morpheus)'\n",
       "24. 'Retention Time'\n",
       "25. 'Retention Time at Maximum Pressure'\n",
       "26. 'Starting Backpressure (Average)'\n",
       "27. 'Starting Pressure (Median)'\n",
       "28. 'Tailing'\n",
       "29. 'Unique Peptides (Morpheus)'\n",
       "30. 'Valve Drop'\n",
       "31. 'Valve Spike End'\n",
       "32. 'Valve Spike Start'\n",
       "\n",
       "\n"
      ],
      "text/plain": [
       " [1] \"Air Injection\"                       \"Area\"                               \n",
       " [3] \"Area (normalised)\"                   \"Asymmetry\"                          \n",
       " [5] \"Column Oven\"                         \"End Pressure (Average)\"             \n",
       " [7] \"End Pressure (Median)\"               \"Full Width Half Maximum\"            \n",
       " [9] \"Height\"                              \"Height (normalised)\"                \n",
       "[11] \"Inline Leak\"                         \"Mass Error (mDa)\"                   \n",
       "[13] \"Mass Error (ppm)\"                    \"Mass to Charge Ratio (mz)\"          \n",
       "[15] \"Maximum Pressure\"                    \"Minimum Pressure\"                   \n",
       "[17] \"MS/MS Spectra (Morpheus)\"            \"mz Maximum\"                         \n",
       "[19] \"mz Minimum\"                          \"Precursor Mass Error ppm (Morpheus)\"\n",
       "[21] \"Pressure Differential\"               \"Protein Groups (Morpheus)\"          \n",
       "[23] \"PSM (Morpheus)\"                      \"Retention Time\"                     \n",
       "[25] \"Retention Time at Maximum Pressure\"  \"Starting Backpressure (Average)\"    \n",
       "[27] \"Starting Pressure (Median)\"          \"Tailing\"                            \n",
       "[29] \"Unique Peptides (Morpheus)\"          \"Valve Drop\"                         \n",
       "[31] \"Valve Spike End\"                     \"Valve Spike Start\"                  "
      ]
     },
     "metadata": {},
     "output_type": "display_data"
    }
   ],
   "source": [
    "levels(mpmf_data$metric)"
   ]
  },
  {
   "cell_type": "code",
   "execution_count": 55,
   "metadata": {},
   "outputs": [],
   "source": [
    "unused_metrics <- c(\"Area\", \"Height\", \"mz Maximum\", \"mz Minimum\", \"Mass to Charge Ratio (mz)\")"
   ]
  },
  {
   "cell_type": "code",
   "execution_count": 56,
   "metadata": {},
   "outputs": [],
   "source": [
    "mpmf_data <- filter(mpmf_data, !mpmf_data$metric %in% unused_metrics)"
   ]
  },
  {
   "cell_type": "code",
   "execution_count": 58,
   "metadata": {},
   "outputs": [
    {
     "name": "stdout",
     "output_type": "stream",
     "text": [
      "'data.frame':\t727743 obs. of  7 variables:\n",
      " $ metric         : Factor w/ 32 levels \"Air Injection\",..: 24 24 24 24 24 24 24 24 24 24 ...\n",
      " $ metric_type    : Factor w/ 3 levels \"morpheus\",\"mzmine\",..: 2 2 2 2 2 2 2 2 2 2 ...\n",
      " $ component_name : Factor w/ 31 levels \"Alanine\",\"Benzimidazole\",..: 10 11 12 13 14 15 16 17 18 19 ...\n",
      " $ experiment_type: Factor w/ 2 levels \"metabolomics\",..: 2 2 2 2 2 2 2 2 2 2 ...\n",
      " $ machine_name   : Factor w/ 7 levels \"fusion\",\"qeclassic\",..: 1 1 1 1 1 1 1 1 1 1 ...\n",
      " $ date_time      : POSIXct, format: \"2019-08-30 01:14:55\" \"2019-08-30 01:14:55\" ...\n",
      " $ value          : num  19.6 21.8 24.2 25.6 26.7 ...\n"
     ]
    }
   ],
   "source": [
    "str(mpmf_data)"
   ]
  },
  {
   "cell_type": "code",
   "execution_count": 60,
   "metadata": {},
   "outputs": [
    {
     "data": {
      "text/html": [
       "<table>\n",
       "<thead><tr><th scope=col>metric</th><th scope=col>metric_type</th><th scope=col>component_name</th><th scope=col>experiment_type</th><th scope=col>machine_name</th><th scope=col>date_time</th><th scope=col>value</th></tr></thead>\n",
       "<tbody>\n",
       "\t<tr><td>Retention Time     </td><td>mzmine             </td><td>iRT-pep_a          </td><td>proteomics         </td><td>fusion             </td><td>2019-08-30 01:14:55</td><td>19.57583           </td></tr>\n",
       "\t<tr><td>Retention Time     </td><td>mzmine             </td><td>iRT-pep_b          </td><td>proteomics         </td><td>fusion             </td><td>2019-08-30 01:14:55</td><td>21.82167           </td></tr>\n",
       "\t<tr><td>Retention Time     </td><td>mzmine             </td><td>iRT-pep_c          </td><td>proteomics         </td><td>fusion             </td><td>2019-08-30 01:14:55</td><td>24.17033           </td></tr>\n",
       "\t<tr><td>Retention Time     </td><td>mzmine             </td><td>iRT-pep_d          </td><td>proteomics         </td><td>fusion             </td><td>2019-08-30 01:14:55</td><td>25.59117           </td></tr>\n",
       "\t<tr><td>Retention Time     </td><td>mzmine             </td><td>iRT-pep_e          </td><td>proteomics         </td><td>fusion             </td><td>2019-08-30 01:14:55</td><td>26.73767           </td></tr>\n",
       "\t<tr><td>Retention Time     </td><td>mzmine             </td><td>iRT-pep_f          </td><td>proteomics         </td><td>fusion             </td><td>2019-08-30 01:14:55</td><td>27.67833           </td></tr>\n",
       "</tbody>\n",
       "</table>\n"
      ],
      "text/latex": [
       "\\begin{tabular}{r|lllllll}\n",
       " metric & metric\\_type & component\\_name & experiment\\_type & machine\\_name & date\\_time & value\\\\\n",
       "\\hline\n",
       "\t Retention Time      & mzmine              & iRT-pep\\_a         & proteomics          & fusion              & 2019-08-30 01:14:55 & 19.57583           \\\\\n",
       "\t Retention Time      & mzmine              & iRT-pep\\_b         & proteomics          & fusion              & 2019-08-30 01:14:55 & 21.82167           \\\\\n",
       "\t Retention Time      & mzmine              & iRT-pep\\_c         & proteomics          & fusion              & 2019-08-30 01:14:55 & 24.17033           \\\\\n",
       "\t Retention Time      & mzmine              & iRT-pep\\_d         & proteomics          & fusion              & 2019-08-30 01:14:55 & 25.59117           \\\\\n",
       "\t Retention Time      & mzmine              & iRT-pep\\_e         & proteomics          & fusion              & 2019-08-30 01:14:55 & 26.73767           \\\\\n",
       "\t Retention Time      & mzmine              & iRT-pep\\_f         & proteomics          & fusion              & 2019-08-30 01:14:55 & 27.67833           \\\\\n",
       "\\end{tabular}\n"
      ],
      "text/markdown": [
       "\n",
       "| metric | metric_type | component_name | experiment_type | machine_name | date_time | value |\n",
       "|---|---|---|---|---|---|---|\n",
       "| Retention Time      | mzmine              | iRT-pep_a           | proteomics          | fusion              | 2019-08-30 01:14:55 | 19.57583            |\n",
       "| Retention Time      | mzmine              | iRT-pep_b           | proteomics          | fusion              | 2019-08-30 01:14:55 | 21.82167            |\n",
       "| Retention Time      | mzmine              | iRT-pep_c           | proteomics          | fusion              | 2019-08-30 01:14:55 | 24.17033            |\n",
       "| Retention Time      | mzmine              | iRT-pep_d           | proteomics          | fusion              | 2019-08-30 01:14:55 | 25.59117            |\n",
       "| Retention Time      | mzmine              | iRT-pep_e           | proteomics          | fusion              | 2019-08-30 01:14:55 | 26.73767            |\n",
       "| Retention Time      | mzmine              | iRT-pep_f           | proteomics          | fusion              | 2019-08-30 01:14:55 | 27.67833            |\n",
       "\n"
      ],
      "text/plain": [
       "  metric         metric_type component_name experiment_type machine_name\n",
       "1 Retention Time mzmine      iRT-pep_a      proteomics      fusion      \n",
       "2 Retention Time mzmine      iRT-pep_b      proteomics      fusion      \n",
       "3 Retention Time mzmine      iRT-pep_c      proteomics      fusion      \n",
       "4 Retention Time mzmine      iRT-pep_d      proteomics      fusion      \n",
       "5 Retention Time mzmine      iRT-pep_e      proteomics      fusion      \n",
       "6 Retention Time mzmine      iRT-pep_f      proteomics      fusion      \n",
       "  date_time           value   \n",
       "1 2019-08-30 01:14:55 19.57583\n",
       "2 2019-08-30 01:14:55 21.82167\n",
       "3 2019-08-30 01:14:55 24.17033\n",
       "4 2019-08-30 01:14:55 25.59117\n",
       "5 2019-08-30 01:14:55 26.73767\n",
       "6 2019-08-30 01:14:55 27.67833"
      ]
     },
     "metadata": {},
     "output_type": "display_data"
    }
   ],
   "source": [
    "head(mpmf_data)"
   ]
  },
  {
   "cell_type": "code",
   "execution_count": 61,
   "metadata": {},
   "outputs": [],
   "source": [
    "# save as R object\n",
    "saveRDS(mpmf_data, file=\"MPMF_QC_DB.rds\")"
   ]
  }
 ],
 "metadata": {
  "kernelspec": {
   "display_name": "R",
   "language": "R",
   "name": "ir"
  },
  "language_info": {
   "codemirror_mode": "r",
   "file_extension": ".r",
   "mimetype": "text/x-r-source",
   "name": "R",
   "pygments_lexer": "r",
   "version": "3.6.1"
  }
 },
 "nbformat": 4,
 "nbformat_minor": 4
}
